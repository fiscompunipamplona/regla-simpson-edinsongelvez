{
 "cells": [
  {
   "cell_type": "markdown",
   "metadata": {},
   "source": [
    "# Resuelva la integral: $\\int_{0}^{2}  \\! (x^{4}-2x+1) \\, dx  $, utilizando el método del trapecio y por el método de Simpson."
   ]
  },
  {
   "cell_type": "markdown",
   "metadata": {},
   "source": [
    "# Por el método del trapecio."
   ]
  },
  {
   "cell_type": "code",
   "execution_count": 1,
   "metadata": {},
   "outputs": [
    {
     "name": "stdout",
     "output_type": "stream",
     "text": [
      "El valor de la integral por el método Trapecio es: f(X)=  4.1528759328\n",
      "El valor analítico de la integral es: f(X)= 4.4\n",
      "El valor del error es:  5.616456072727283 %\n"
     ]
    }
   ],
   "source": [
    "tramos = 100\n",
    "a = 0\n",
    "b = 2\n",
    "h = (b-a)/tramos\n",
    "def function_x(tramos,h,a):\n",
    "\txn = 0\n",
    "\tfor i in range(1,tramos-1):\n",
    "\t\tx1 = a+i*h\n",
    "\t\ty1 = (x1**4-(2*x1)+1)\n",
    "\t\txn += h*y1\n",
    "\treturn xn\n",
    "xm = function_x(tramos,h,a)\n",
    "f_x = (h/2)*(a**4-(2*a)+1+b**4-(2*b)+1)+xm\n",
    "error = abs((1-(f_x/4.4)))\n",
    "print(\"El valor de la integral por el método Trapecio es: f(X)= \",f_x)\n",
    "print(\"El valor analítico de la integral es: f(X)= 4.4\")\n",
    "print(\"El valor del error es: \",error*100,\"%\")"
   ]
  },
  {
   "cell_type": "markdown",
   "metadata": {},
   "source": [
    "# Por el método de Simpson."
   ]
  },
  {
   "cell_type": "code",
   "execution_count": 2,
   "metadata": {},
   "outputs": [
    {
     "name": "stdout",
     "output_type": "stream",
     "text": [
      "El valor de la integral por el método Simpson es: f(X)=  4.3257396672000015\n",
      "El valor analítico de la integral es: f(X)= 4.4\n",
      "El valor del error es:  1.687734836363608 %\n"
     ]
    }
   ],
   "source": [
    "tramos = 100\n",
    "b = 2\n",
    "a = 0\n",
    "h = (b-a)/tramos\n",
    "def funcion_x_1(tramos,a,h):\n",
    "\txn = 0\n",
    "\tfor i in range(1,int((tramos/2)+1)):\n",
    "\t\tx1 = a + (2*i -1)*h\n",
    "\t\ty1 = x1**4 - 2*x1 +1\n",
    "\t\txn += y1\n",
    "\treturn xn\n",
    "def funcion_x_2(tramos,a,h):\n",
    "\txnn = 0\n",
    "\tfor i in range(1,int(((tramos/2)-1)+1)):\n",
    "\t\tx2 = a + (2*i -1)*h\n",
    "\t\ty2 = x2**4 - 2*x2 +1\n",
    "\t\txnn += y2\n",
    "\treturn xnn\n",
    "\n",
    "x1 = funcion_x_1(tramos,a,h)\n",
    "x2 = funcion_x_2(tramos,a,h)\n",
    "xm = 4*x1 + 2*x2\n",
    "f_x = (h/3)*((a**4-2*a+1+b**4-2*b+1)+xm)\n",
    "error = abs((1-(f_x/4.4)))\n",
    "print(\"El valor de la integral por el método Simpson es: f(X)= \",f_x)\n",
    "print(\"El valor analítico de la integral es: f(X)= 4.4\")\n",
    "print(\"El valor del error es: \",error*100,\"%\")"
   ]
  },
  {
   "cell_type": "markdown",
   "metadata": {},
   "source": [
    "Con la regla de Simpson se obtiene una aproximación más precisa del área bajo una curva, debido a que grupos sucesivos de tres puntos están conectados a la curva por medio de parábolas de segundo grado, y cuando se agregan las áreas debajo de las parábolas, el área aproximada es obtenida bajo la curva. Esta regla, a diferencia de la regla del trapecio, donde un mayor número de subdivisiones proporciona una mejor aproximación, lo que hace es ajustar una curva de orden superior en lugar de la línea recta, como sucede con la regla del trapecio."
   ]
  },
  {
   "cell_type": "markdown",
   "metadata": {},
   "source": [
    "# Espectro de difracción de un telescopio. "
   ]
  },
  {
   "cell_type": "code",
   "execution_count": 4,
   "metadata": {},
   "outputs": [
    {
     "name": "stdout",
     "output_type": "stream",
     "text": [
      "El valor de la integral por el método Trapecio es: f(X)=  4.374130474793567\n",
      "El valor analítico de la integral es: f(X)= 4.4\n",
      "El valor del error es:  0.5879437546916666 %\n"
     ]
    }
   ],
   "source": [
    "#Espectro de difracción\n",
    "from math import*\n",
    "from numpy import*\n",
    "tramos = 1000\n",
    "a = 0\n",
    "b = pi\n",
    "h = (b-a)/tramos\n",
    "\n",
    "def function_x_theta(tramos,a,h):\n",
    "\txn1 = 0\n",
    "\txn2 = 0\n",
    "\tn = 0\n",
    "\tfor i in range(0,21,1):\n",
    "\t\tfor j in range(1,int((tramos/2)+1)):\n",
    "\t\t\ttheta1 = a +(2*j-1)*h\n",
    "\t\t\ty1 = (h/(3*pi))*(cos(n*theta1-i*sin(theta1)))\n",
    "\t\t\txn1 += y1\n",
    "\t\tfor k in range(1,int(((tramos/2)-1)+1)):\n",
    "\t\t\ttheta2 = a +(2*k*h)\n",
    "\t\t\ty2 = (h/(3*pi))*(cos(n*theta2-i*sin(theta2)))\n",
    "\t\t\txn2 += y2\n",
    "\t\txm = 4*xn1+2*xn2\n",
    "\t\tf_x = (h/3)*(1/pi)*(cos(n*a-i*sin(a))+cos(n*b-i*sin(b)))+xm\n",
    "\t\tprint(\"Para X= \",i,\"; f(x)= \",f_x)\n",
    "\t\n",
    "function_x_theta(tramos,a,h)"
   ]
  }
 ],
 "metadata": {
  "kernelspec": {
   "display_name": "Python 3",
   "language": "python",
   "name": "python3"
  },
  "language_info": {
   "codemirror_mode": {
    "name": "ipython",
    "version": 3
   },
   "file_extension": ".py",
   "mimetype": "text/x-python",
   "name": "python",
   "nbconvert_exporter": "python",
   "pygments_lexer": "ipython3",
   "version": "3.6.7"
  }
 },
 "nbformat": 4,
 "nbformat_minor": 2
}
